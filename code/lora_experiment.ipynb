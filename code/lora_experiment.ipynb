{
 "cells": [
  {
   "cell_type": "code",
   "execution_count": 1,
   "id": "2e22781c-c04f-49df-8ef2-5f0f835948b5",
   "metadata": {},
   "outputs": [
    {
     "data": {
      "application/vnd.jupyter.widget-view+json": {
       "model_id": "1b44787a623e433c8c1a2098aa8f5bf2",
       "version_major": 2,
       "version_minor": 0
      },
      "text/plain": [
       "VBox(children=(HTML(value='<center> <img\\nsrc=https://huggingface.co/front/assets/huggingface_logo-noborder.sv…"
      ]
     },
     "metadata": {},
     "output_type": "display_data"
    }
   ],
   "source": [
    "from huggingface_hub import notebook_login\n",
    "import os\n",
    "#os.environ[\"CUDA_LAUNCH_BLOCKING\"]=\"1\"\n",
    "os.environ[\"TOKENIZERS_PARALLELISM\"]=\"true\"\n",
    "notebook_login()\n",
    "token = \"huggingface-key\""
   ]
  },
  {
   "cell_type": "code",
   "execution_count": 2,
   "id": "72f97992-0e62-44c2-8fea-5141255b90b7",
   "metadata": {},
   "outputs": [
    {
     "data": {
      "application/vnd.jupyter.widget-view+json": {
       "model_id": "95493235ce8348f5ad7dae5a0da0fd59",
       "version_major": 2,
       "version_minor": 0
      },
      "text/plain": [
       "Loading checkpoint shards:   0%|          | 0/3 [00:00<?, ?it/s]"
      ]
     },
     "metadata": {},
     "output_type": "display_data"
    },
    {
     "name": "stdout",
     "output_type": "stream",
     "text": [
      "Total trainable parameters after: 9,437,184\n"
     ]
    },
    {
     "name": "stderr",
     "output_type": "stream",
     "text": [
      "We detected that you are passing `past_key_values` as a tuple and this is deprecated and will be removed in v4.43. Please use an appropriate `Cache` class (https://huggingface.co/docs/transformers/v4.41.3/en/internal/generation_utils#transformers.Cache)\n"
     ]
    },
    {
     "name": "stdout",
     "output_type": "stream",
     "text": [
      "Perplexity: 5.44\n"
     ]
    }
   ],
   "source": [
    "import torch\n",
    "import torch.nn as nn\n",
    "from torch.utils.data import DataLoader\n",
    "from datasets import load_dataset\n",
    "from transformers import AutoTokenizer, AutoModelForCausalLM, AdamW, get_linear_schedule_with_warmup, get_cosine_schedule_with_warmup\n",
    "from tqdm import tqdm\n",
    "from utils import *\n",
    "import gc\n",
    "\n",
    "\n",
    "model_name = \"mistralai/Mistral-7B-v0.3\"\n",
    "model, tokenizer, lm_head = load_model_and_tokenizer(model_name, type = \"lora\")"
   ]
  },
  {
   "cell_type": "code",
   "execution_count": 3,
   "id": "0906f755-0380-4e60-83d0-6a6f5d5ab417",
   "metadata": {
    "scrolled": true
   },
   "outputs": [],
   "source": [
    "torch.cuda.empty_cache()\n",
    "_ = gc.collect()"
   ]
  },
  {
   "cell_type": "code",
   "execution_count": 4,
   "id": "9cd7e4c0-43fa-4123-b371-b85904b1a4e5",
   "metadata": {},
   "outputs": [
    {
     "name": "stderr",
     "output_type": "stream",
     "text": [
      "/usr/local/lib/python3.10/dist-packages/transformers/optimization.py:591: FutureWarning: This implementation of AdamW is deprecated and will be removed in a future version. Use the PyTorch implementation torch.optim.AdamW instead, or set `no_deprecation_warning=True` to disable this warning\n",
      "  warnings.warn(\n"
     ]
    }
   ],
   "source": [
    "# Set up optimizer and scheduler\n",
    "optimizer = AdamW(model.parameters(), lr=lr)\n",
    "num_epochs = 3\n",
    "num_training_steps = num_epochs * len(mrpc_dataset[\"train\"])\n",
    "scheduler = get_cosine_schedule_with_warmup(optimizer, num_warmup_steps=500, num_training_steps=num_training_steps)"
   ]
  },
  {
   "cell_type": "code",
   "execution_count": 5,
   "id": "32081eca-9f8c-4414-97b2-e71da75ef4b5",
   "metadata": {},
   "outputs": [
    {
     "name": "stderr",
     "output_type": "stream",
     "text": [
      "100%|██████████| 125/125 [02:37<00:00,  1.26s/it]\n"
     ]
    },
    {
     "name": "stdout",
     "output_type": "stream",
     "text": [
      "Epoch 1, Average loss: 0.053962597515494454\n"
     ]
    },
    {
     "name": "stderr",
     "output_type": "stream",
     "text": [
      "100%|██████████| 125/125 [02:37<00:00,  1.26s/it]\n"
     ]
    },
    {
     "name": "stdout",
     "output_type": "stream",
     "text": [
      "Epoch 2, Average loss: 0.02225494865204168\n"
     ]
    },
    {
     "name": "stderr",
     "output_type": "stream",
     "text": [
      "100%|██████████| 125/125 [02:37<00:00,  1.26s/it]"
     ]
    },
    {
     "name": "stdout",
     "output_type": "stream",
     "text": [
      "Epoch 3, Average loss: 0.016627136381767535\n"
     ]
    },
    {
     "name": "stderr",
     "output_type": "stream",
     "text": [
      "\n"
     ]
    }
   ],
   "source": [
    "# Convert to PyTorch datasets\n",
    "train_dataset = mrpc_dataset[\"train\"]\n",
    "batch_size = 8\n",
    "\n",
    "for epoch in range(num_epochs):\n",
    "    model.train()\n",
    "    total_loss = 0\n",
    "    #for batch in tqdm(train_dataset, desc=f\"Epoch {epoch + 1}\"):\n",
    "    #for i in tqdm(range(0, len(train_dataset), batch_size)):\n",
    "    for i in tqdm(range(0, 1000, batch_size)):\n",
    "        batch = train_dataset[i:i+batch_size]\n",
    "        inputs = tokenizer(batch[\"sentence1\"], batch[\"sentence2\"], return_tensors=\"pt\",\n",
    "                           truncation=True, padding = True, max_length = max_len).to(device)\n",
    "        optimizer.zero_grad()\n",
    "        outputs = model(**inputs)[\"logits\"][:, -1, :]#.cpu()\n",
    "        #loss = criterion(outputs, torch.LongTensor(batch[\"label\"]).to(\"cuda\"))\n",
    "        y = torch.LongTensor(batch[\"label\"]).to(device)\n",
    "        loss = torch.nn.functional.cross_entropy(outputs, y)\n",
    "        total_loss += loss.item()\n",
    "        loss.backward()\n",
    "        optimizer.step()\n",
    "        scheduler.step()\n",
    "        #outputs.detach().cpu()\n",
    "        #y.detach().cpu()\n",
    "        #inputs[\"input_ids\"].detach().cpu()\n",
    "        #inputs[\"attention_mask\"].detach().cpu()\n",
    "        torch.cuda.empty_cache()\n",
    "        _ = gc.collect()\n",
    "\n",
    "    print(f\"Epoch {epoch + 1}, Average loss: {total_loss / len(train_dataset)}\")"
   ]
  },
  {
   "cell_type": "code",
   "execution_count": 6,
   "id": "84ce9d9c-9368-4e2a-b898-7c263541f7ca",
   "metadata": {},
   "outputs": [
    {
     "name": "stdout",
     "output_type": "stream",
     "text": [
      "Evaluating on MRPC...\n"
     ]
    },
    {
     "name": "stderr",
     "output_type": "stream",
     "text": [
      "100%|██████████| 408/408 [00:28<00:00, 14.22it/s]"
     ]
    },
    {
     "name": "stdout",
     "output_type": "stream",
     "text": [
      "MRPC Accuracy: 0.6495\n"
     ]
    },
    {
     "name": "stderr",
     "output_type": "stream",
     "text": [
      "\n"
     ]
    }
   ],
   "source": [
    "print(\"Evaluating on MRPC...\")\n",
    "mrpc_accuracy = evaluate_mrpc(model, tokenizer, mrpc_dataset, device)\n",
    "print(f\"MRPC Accuracy: {mrpc_accuracy:.4f}\")"
   ]
  },
  {
   "cell_type": "code",
   "execution_count": 7,
   "id": "efdd8bfe-00f9-4ac3-bfa1-8b86a8ec5540",
   "metadata": {},
   "outputs": [],
   "source": [
    "mrpc_head = model.lm_head"
   ]
  },
  {
   "cell_type": "code",
   "execution_count": 8,
   "id": "626155e0-dfd7-4623-87c9-804d295c0c19",
   "metadata": {},
   "outputs": [],
   "source": [
    "torch.manual_seed(1311)\n",
    "\n",
    "num_classes = 2\n",
    "model.lm_head = torch.nn.Linear(in_features=4096, out_features=num_classes).to(device)"
   ]
  },
  {
   "cell_type": "code",
   "execution_count": 9,
   "id": "590cd2ae-4788-47d4-bdf7-b53af4a6908d",
   "metadata": {},
   "outputs": [],
   "source": [
    "# Set up optimizer and scheduler\n",
    "optimizer = AdamW(model.parameters(), lr=lr)\n",
    "num_epochs = 3\n",
    "num_training_steps = num_epochs * len(sst_dataset[\"train\"])\n",
    "scheduler = get_cosine_schedule_with_warmup(optimizer, num_warmup_steps=500, num_training_steps=num_training_steps)"
   ]
  },
  {
   "cell_type": "code",
   "execution_count": 10,
   "id": "bfd3d57c-48e7-41b8-a143-9a7fd31977d7",
   "metadata": {},
   "outputs": [
    {
     "name": "stderr",
     "output_type": "stream",
     "text": [
      "100%|██████████| 125/125 [01:12<00:00,  1.72it/s]\n"
     ]
    },
    {
     "name": "stdout",
     "output_type": "stream",
     "text": [
      "Epoch 1, Average loss: 0.0015035631459601113\n"
     ]
    },
    {
     "name": "stderr",
     "output_type": "stream",
     "text": [
      "100%|██████████| 125/125 [01:12<00:00,  1.74it/s]\n"
     ]
    },
    {
     "name": "stdout",
     "output_type": "stream",
     "text": [
      "Epoch 2, Average loss: 0.00041665321909103385\n"
     ]
    },
    {
     "name": "stderr",
     "output_type": "stream",
     "text": [
      "100%|██████████| 125/125 [01:10<00:00,  1.77it/s]"
     ]
    },
    {
     "name": "stdout",
     "output_type": "stream",
     "text": [
      "Epoch 3, Average loss: 0.001446018162814781\n"
     ]
    },
    {
     "name": "stderr",
     "output_type": "stream",
     "text": [
      "\n"
     ]
    }
   ],
   "source": [
    "# Convert to PyTorch datasets\n",
    "train_dataset = sst_dataset[\"train\"]\n",
    "batch_size = 8\n",
    "\n",
    "for epoch in range(num_epochs):\n",
    "    model.train()\n",
    "    total_loss = 0\n",
    "    #for batch in tqdm(train_dataset, desc=f\"Epoch {epoch + 1}\"):\n",
    "    #for i in tqdm(range(0, len(train_dataset), batch_size)):\n",
    "    for i in tqdm(range(0, 1000, batch_size)):\n",
    "        batch = train_dataset[i:i+batch_size]\n",
    "        inputs = tokenizer(batch[\"sentence\"], return_tensors=\"pt\",\n",
    "                           truncation=True, padding = True, max_length = max_len).to(device)\n",
    "        optimizer.zero_grad()\n",
    "        outputs = model(**inputs)[\"logits\"][:, -1, :]#.cpu()\n",
    "        #loss = criterion(outputs, torch.LongTensor(batch[\"label\"]).to(\"cuda\"))\n",
    "        y = torch.LongTensor(batch[\"label\"]).to(device)\n",
    "        loss = torch.nn.functional.cross_entropy(outputs, y)\n",
    "        total_loss += loss.item()\n",
    "        loss.backward()\n",
    "        optimizer.step()\n",
    "        scheduler.step()\n",
    "        #outputs.detach().cpu()\n",
    "        #y.detach().cpu()\n",
    "        #inputs[\"input_ids\"].detach().cpu()\n",
    "        #inputs[\"attention_mask\"].detach().cpu()\n",
    "        torch.cuda.empty_cache()\n",
    "        _ = gc.collect()\n",
    "\n",
    "    print(f\"Epoch {epoch + 1}, Average loss: {total_loss / len(train_dataset)}\")"
   ]
  },
  {
   "cell_type": "code",
   "execution_count": 11,
   "id": "2523032d-dbb9-4152-a3b7-3abc878c518e",
   "metadata": {},
   "outputs": [
    {
     "name": "stdout",
     "output_type": "stream",
     "text": [
      "Evaluating on SST-2...\n"
     ]
    },
    {
     "name": "stderr",
     "output_type": "stream",
     "text": [
      "100%|██████████| 872/872 [00:47<00:00, 18.24it/s]"
     ]
    },
    {
     "name": "stdout",
     "output_type": "stream",
     "text": [
      "SST-2 Accuracy: 0.5092\n"
     ]
    },
    {
     "name": "stderr",
     "output_type": "stream",
     "text": [
      "\n"
     ]
    }
   ],
   "source": [
    "print(\"Evaluating on SST-2...\")\n",
    "accuracy = evaluate_sst2(model, tokenizer, sst_dataset, device)\n",
    "print(f\"SST-2 Accuracy: {accuracy:.4f}\")"
   ]
  },
  {
   "cell_type": "code",
   "execution_count": 12,
   "id": "d5a59825-5542-4cc0-99dc-f8caed532280",
   "metadata": {},
   "outputs": [],
   "source": [
    "torch.cuda.empty_cache()\n",
    "_ = gc.collect()"
   ]
  },
  {
   "cell_type": "code",
   "execution_count": 13,
   "id": "2a2f0246-fbaa-4985-bbd1-9068e7d9db79",
   "metadata": {},
   "outputs": [],
   "source": [
    "sst_head = model.lm_head\n",
    "model.lm_head = mrpc_head"
   ]
  },
  {
   "cell_type": "code",
   "execution_count": 14,
   "id": "62b0d326-74f3-4875-81b2-aee6b40f166a",
   "metadata": {},
   "outputs": [
    {
     "name": "stdout",
     "output_type": "stream",
     "text": [
      "Evaluating on MRPC...\n"
     ]
    },
    {
     "name": "stderr",
     "output_type": "stream",
     "text": [
      "100%|██████████| 408/408 [00:28<00:00, 14.17it/s]"
     ]
    },
    {
     "name": "stdout",
     "output_type": "stream",
     "text": [
      "MRPC Accuracy: 0.3162\n"
     ]
    },
    {
     "name": "stderr",
     "output_type": "stream",
     "text": [
      "\n"
     ]
    }
   ],
   "source": [
    "print(\"Evaluating on MRPC...\")\n",
    "mrpc_accuracy = evaluate_mrpc(model, tokenizer, mrpc_dataset, device)\n",
    "print(f\"MRPC Accuracy: {mrpc_accuracy:.4f}\")"
   ]
  },
  {
   "cell_type": "code",
   "execution_count": 15,
   "id": "1fb8b486-8461-4fc9-8451-09f841e9e602",
   "metadata": {},
   "outputs": [],
   "source": [
    "torch.manual_seed(1311)\n",
    "\n",
    "num_classes = 3\n",
    "model.lm_head = torch.nn.Linear(in_features=4096, out_features=num_classes).to(device)"
   ]
  },
  {
   "cell_type": "code",
   "execution_count": 16,
   "id": "6c26694b-61c8-425f-9363-fd4f83a8f5aa",
   "metadata": {},
   "outputs": [],
   "source": [
    "# Set up optimizer and scheduler\n",
    "optimizer = AdamW(model.parameters(), lr=lr)\n",
    "num_epochs = 3\n",
    "num_training_steps = num_epochs * len(sentiment_dataset[\"test\"])\n",
    "scheduler = get_cosine_schedule_with_warmup(optimizer, num_warmup_steps=500, num_training_steps=num_training_steps)"
   ]
  },
  {
   "cell_type": "code",
   "execution_count": 17,
   "id": "bf179bdb-3c61-4819-8ead-dd84abf9a38b",
   "metadata": {},
   "outputs": [
    {
     "name": "stderr",
     "output_type": "stream",
     "text": [
      "100%|██████████| 63/63 [00:45<00:00,  1.38it/s]\n"
     ]
    },
    {
     "name": "stdout",
     "output_type": "stream",
     "text": [
      "Epoch 1, Average loss: 0.11045337237986216\n"
     ]
    },
    {
     "name": "stderr",
     "output_type": "stream",
     "text": [
      "100%|██████████| 63/63 [00:44<00:00,  1.40it/s]\n"
     ]
    },
    {
     "name": "stdout",
     "output_type": "stream",
     "text": [
      "Epoch 2, Average loss: 0.10219422069539028\n"
     ]
    },
    {
     "name": "stderr",
     "output_type": "stream",
     "text": [
      "100%|██████████| 63/63 [00:43<00:00,  1.44it/s]"
     ]
    },
    {
     "name": "stdout",
     "output_type": "stream",
     "text": [
      "Epoch 3, Average loss: 0.09562826596469765\n"
     ]
    },
    {
     "name": "stderr",
     "output_type": "stream",
     "text": [
      "\n"
     ]
    }
   ],
   "source": [
    "# Convert to PyTorch datasets\n",
    "train_dataset = sentiment_dataset[\"test\"]\n",
    "batch_size = 8\n",
    "\n",
    "for epoch in range(num_epochs):\n",
    "    model.train()\n",
    "    total_loss = 0\n",
    "    #for batch in tqdm(train_dataset, desc=f\"Epoch {epoch + 1}\"):\n",
    "    #for i in tqdm(range(0, len(train_dataset), batch_size)):\n",
    "    for i in tqdm(range(0, len(train_dataset), batch_size)):\n",
    "        batch = train_dataset[i:i+batch_size]\n",
    "        inputs = tokenizer(batch[\"text\"], return_tensors=\"pt\",\n",
    "                           truncation=True, padding = True, max_length = max_len).to(device)\n",
    "        optimizer.zero_grad()\n",
    "        outputs = model(**inputs)[\"logits\"][:, -1, :]#.cpu()\n",
    "        #loss = criterion(outputs, torch.LongTensor(batch[\"label\"]).to(\"cuda\"))\n",
    "        y = torch.LongTensor(batch[\"sentiment\"]).to(device) // 4\n",
    "        loss = torch.nn.functional.cross_entropy(outputs, y)\n",
    "        total_loss += loss.item()\n",
    "        loss.backward()\n",
    "        optimizer.step()\n",
    "        scheduler.step()\n",
    "        #outputs.detach().cpu()\n",
    "        #y.detach().cpu()\n",
    "        #inputs[\"input_ids\"].detach().cpu()\n",
    "        #inputs[\"attention_mask\"].detach().cpu()\n",
    "        torch.cuda.empty_cache()\n",
    "        _ = gc.collect()\n",
    "\n",
    "    print(f\"Epoch {epoch + 1}, Average loss: {total_loss / len(train_dataset)}\")"
   ]
  },
  {
   "cell_type": "code",
   "execution_count": 18,
   "id": "5b53c557-1ef3-4df2-9b83-7df993109209",
   "metadata": {},
   "outputs": [
    {
     "name": "stdout",
     "output_type": "stream",
     "text": [
      "Evaluating on Sentiment140...\n"
     ]
    },
    {
     "name": "stderr",
     "output_type": "stream",
     "text": [
      "100%|██████████| 8/8 [00:34<00:00,  4.35s/it]"
     ]
    },
    {
     "name": "stdout",
     "output_type": "stream",
     "text": [
      "Sentiment Accuracy: 1.0000\n"
     ]
    },
    {
     "name": "stderr",
     "output_type": "stream",
     "text": [
      "\n"
     ]
    }
   ],
   "source": [
    "print(\"Evaluating on Sentiment140...\")\n",
    "sentiment_accuracy = evaluate_sentiment(model, tokenizer, sentiment_dataset, device)\n",
    "print(f\"Sentiment Accuracy: {sentiment_accuracy:.4f}\")"
   ]
  },
  {
   "cell_type": "code",
   "execution_count": 19,
   "id": "757744cd-920b-4938-91cc-b4eca30b713f",
   "metadata": {},
   "outputs": [
    {
     "data": {
      "text/plain": [
       "Linear(in_features=4096, out_features=3, bias=True)"
      ]
     },
     "execution_count": 19,
     "metadata": {},
     "output_type": "execute_result"
    }
   ],
   "source": [
    "sentiment_head = model.lm_head\n",
    "sentiment_head"
   ]
  },
  {
   "cell_type": "code",
   "execution_count": 20,
   "id": "1c97bd5a-b07d-4a9e-8660-262251e7d047",
   "metadata": {},
   "outputs": [
    {
     "name": "stdout",
     "output_type": "stream",
     "text": [
      "Evaluating on MRPC...\n"
     ]
    },
    {
     "name": "stderr",
     "output_type": "stream",
     "text": [
      "100%|██████████| 408/408 [00:28<00:00, 14.18it/s]"
     ]
    },
    {
     "name": "stdout",
     "output_type": "stream",
     "text": [
      "MRPC Accuracy: 0.3162\n"
     ]
    },
    {
     "name": "stderr",
     "output_type": "stream",
     "text": [
      "\n"
     ]
    }
   ],
   "source": [
    "model.lm_head = mrpc_head\n",
    "print(\"Evaluating on MRPC...\")\n",
    "mrpc_accuracy = evaluate_mrpc(model, tokenizer, mrpc_dataset, device)\n",
    "print(f\"MRPC Accuracy: {mrpc_accuracy:.4f}\")"
   ]
  },
  {
   "cell_type": "code",
   "execution_count": 21,
   "id": "b309bf5e-47c1-4499-a937-d49e412e325b",
   "metadata": {},
   "outputs": [
    {
     "name": "stdout",
     "output_type": "stream",
     "text": [
      "Evaluating on SST-2...\n"
     ]
    },
    {
     "name": "stderr",
     "output_type": "stream",
     "text": [
      "100%|██████████| 872/872 [00:47<00:00, 18.32it/s]"
     ]
    },
    {
     "name": "stdout",
     "output_type": "stream",
     "text": [
      "SST-2 Accuracy: 0.4908\n"
     ]
    },
    {
     "name": "stderr",
     "output_type": "stream",
     "text": [
      "\n"
     ]
    }
   ],
   "source": [
    "model.lm_head = sst_head\n",
    "print(\"Evaluating on SST-2...\")\n",
    "accuracy = evaluate_sst2(model, tokenizer, sst_dataset, device)\n",
    "print(f\"SST-2 Accuracy: {accuracy:.4f}\")"
   ]
  },
  {
   "cell_type": "code",
   "execution_count": 22,
   "id": "a6dd8263-ad4d-4be4-ba31-320dc0d7ec0a",
   "metadata": {},
   "outputs": [],
   "source": [
    "torch.cuda.empty_cache()\n",
    "_ = gc.collect()"
   ]
  },
  {
   "cell_type": "code",
   "execution_count": 23,
   "id": "cd526ab8-2822-41d3-b576-2c67b64d4633",
   "metadata": {},
   "outputs": [
    {
     "name": "stdout",
     "output_type": "stream",
     "text": [
      "Perplexity: 65055.02\n"
     ]
    }
   ],
   "source": [
    "model.lm_head = lm_head\n",
    "ppl = calculate_perplexity(model, tokenizer, txt)\n",
    "print(\"Perplexity:\", round(ppl, 2))"
   ]
  },
  {
   "cell_type": "code",
   "execution_count": 24,
   "id": "af17c6c1-7429-4e42-8875-ee81b19e5d01",
   "metadata": {},
   "outputs": [],
   "source": [
    "torch.cuda.empty_cache()\n",
    "_ = gc.collect()"
   ]
  },
  {
   "cell_type": "code",
   "execution_count": 25,
   "id": "c0403c6c-b690-4a99-8fd3-ccdc6c8fe941",
   "metadata": {},
   "outputs": [
    {
     "data": {
      "text/plain": [
       "MistralForCausalLM(\n",
       "  (model): MistralModel(\n",
       "    (embed_tokens): Embedding(32768, 4096)\n",
       "    (layers): ModuleList(\n",
       "      (0-31): 32 x MistralDecoderLayer(\n",
       "        (self_attn): MistralSdpaAttention(\n",
       "          (q_proj): LinearWithLoRA(\n",
       "            (linear): Linear(in_features=4096, out_features=4096, bias=False)\n",
       "            (lora): LoRALayer()\n",
       "          )\n",
       "          (k_proj): LinearWithLoRA(\n",
       "            (linear): Linear(in_features=4096, out_features=1024, bias=False)\n",
       "            (lora): LoRALayer()\n",
       "          )\n",
       "          (v_proj): LinearWithLoRA(\n",
       "            (linear): Linear(in_features=4096, out_features=1024, bias=False)\n",
       "            (lora): LoRALayer()\n",
       "          )\n",
       "          (o_proj): Linear(in_features=4096, out_features=4096, bias=False)\n",
       "          (rotary_emb): MistralRotaryEmbedding()\n",
       "        )\n",
       "        (mlp): MistralMLP(\n",
       "          (gate_proj): Linear(in_features=4096, out_features=14336, bias=False)\n",
       "          (up_proj): Linear(in_features=4096, out_features=14336, bias=False)\n",
       "          (down_proj): Linear(in_features=14336, out_features=4096, bias=False)\n",
       "          (act_fn): SiLU()\n",
       "        )\n",
       "        (input_layernorm): MistralRMSNorm()\n",
       "        (post_attention_layernorm): MistralRMSNorm()\n",
       "      )\n",
       "    )\n",
       "    (norm): MistralRMSNorm()\n",
       "  )\n",
       "  (lm_head): Linear(in_features=4096, out_features=32768, bias=False)\n",
       ")"
      ]
     },
     "execution_count": 25,
     "metadata": {},
     "output_type": "execute_result"
    }
   ],
   "source": [
    "model"
   ]
  },
  {
   "cell_type": "code",
   "execution_count": null,
   "id": "c94d5ab9-44ea-42f6-b116-41da41d0bd5a",
   "metadata": {},
   "outputs": [],
   "source": []
  }
 ],
 "metadata": {
  "kernelspec": {
   "display_name": "Python 3 (ipykernel)",
   "language": "python",
   "name": "python3"
  },
  "language_info": {
   "codemirror_mode": {
    "name": "ipython",
    "version": 3
   },
   "file_extension": ".py",
   "mimetype": "text/x-python",
   "name": "python",
   "nbconvert_exporter": "python",
   "pygments_lexer": "ipython3",
   "version": "3.8.10"
  }
 },
 "nbformat": 4,
 "nbformat_minor": 5
}
